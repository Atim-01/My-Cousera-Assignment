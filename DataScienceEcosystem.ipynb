{
 "cells": [
  {
   "cell_type": "markdown",
   "id": "bea4c34d",
   "metadata": {},
   "source": [
    "# Data Science Tools and Ecosystem"
   ]
  },
  {
   "cell_type": "markdown",
   "id": "29ff2a10",
   "metadata": {},
   "source": [
    "## Create markdown cell with title of the notebook\n",
    "In this notebook, Data Science Tools and Ecosystem are summarized."
   ]
  },
  {
   "cell_type": "markdown",
   "id": "51b61913",
   "metadata": {},
   "source": [
    "## Create a markdown cell to list data science languages\n",
    "Some of the popular languagues that Data Scientist use are: \n",
    "1. Python\n",
    "2. R language\n",
    "3. SQL"
   ]
  },
  {
   "cell_type": "markdown",
   "id": "bd9cdc00",
   "metadata": {},
   "source": [
    "## Create a markdown cell to list data science libraries\n",
    "Some of the commonly used libraries used by Data Scientists include: \n",
    "1. Matplotlib\n",
    "2. Scikit-learn\n",
    "3. Numpy\n",
    "4. PyTorch\n"
   ]
  },
  {
   "cell_type": "markdown",
   "id": "ba687d40",
   "metadata": {},
   "source": [
    "## Create a markdown cell with a table of Data Science tools\n",
    "| Data Science Tools |\n",
    "|--------------------|\n",
    "| Jupyter |\n",
    "| RStudio |\n",
    "| PyTorch |"
   ]
  },
  {
   "cell_type": "markdown",
   "id": "397463cc",
   "metadata": {},
   "source": [
    "### Below are a few examples of evaluating arithmetic expressions in Python\n",
    "1. 5 + 3 * 2 = 11\n",
    "2. (5 + 3) * 2 = 16"
   ]
  },
  {
   "cell_type": "code",
   "execution_count": 1,
   "id": "917eb180",
   "metadata": {},
   "outputs": [
    {
     "data": {
      "text/plain": [
       "17"
      ]
     },
     "execution_count": 1,
     "metadata": {},
     "output_type": "execute_result"
    }
   ],
   "source": [
    "# Create a code cell to multiply and add numbers\n",
    "# This a simple arithmetic expression to mutiply then add integers\n",
    "(3*4)+5"
   ]
  },
  {
   "cell_type": "code",
   "execution_count": 3,
   "id": "f3806f63",
   "metadata": {},
   "outputs": [
    {
     "name": "stdout",
     "output_type": "stream",
     "text": [
      "3.3333333333333335 hours\n"
     ]
    }
   ],
   "source": [
    "# Create a code cell to convert minutes to hours\n",
    "# This will convert 200 minutes to hours by diving by 60\n",
    "AmtOfMin = 200\n",
    "CvtToHrs = AmtOfMin/60\n",
    "print (CvtToHrs,\"hours\")"
   ]
  },
  {
   "cell_type": "markdown",
   "id": "0296996c",
   "metadata": {},
   "source": [
    "## Insert a markdown cell to list Objectives\n",
    "# Objectives:\n",
    "- Listing out some of the popular languages that Data Scientists use\n",
    "- Listing out some of the commonly used libraries used by Data Scientists\n",
    "- Listing out Data Science Tools"
   ]
  },
  {
   "cell_type": "markdown",
   "id": "fd12368e",
   "metadata": {},
   "source": [
    "## Create a markdown cell to indicate the Author's name\n",
    "\n",
    "## Author\n",
    "Atim Edubio"
   ]
  },
  {
   "cell_type": "code",
   "execution_count": null,
   "id": "a1196d92",
   "metadata": {},
   "outputs": [],
   "source": []
  }
 ],
 "metadata": {
  "kernelspec": {
   "display_name": "Python 3 (ipykernel)",
   "language": "python",
   "name": "python3"
  },
  "language_info": {
   "codemirror_mode": {
    "name": "ipython",
    "version": 3
   },
   "file_extension": ".py",
   "mimetype": "text/x-python",
   "name": "python",
   "nbconvert_exporter": "python",
   "pygments_lexer": "ipython3",
   "version": "3.11.3"
  }
 },
 "nbformat": 4,
 "nbformat_minor": 5
}
